{
 "cells": [
  {
   "cell_type": "markdown",
   "id": "498cf967",
   "metadata": {},
   "source": [
    "# Este é um exemplo de Notebook\n",
    "Você pode criar parágrafos simplesmente escrevendo o texto como preferir.\n",
    "\n",
    "Para códigos, adicione ` antes e ` depois para códigos de uma linha, e ``` antes e ``` depois para códigos de várias linhas. Exemplo de uma linha: print(123).\n",
    "\n",
    "Exemplo de várias linhas:"
   ]
  },
  {
   "cell_type": "code",
   "execution_count": 11,
   "id": "d59daff4",
   "metadata": {},
   "outputs": [],
   "source": [
    "lista = [\n",
    "    {'nome': 'Luiz', 'sobrenome': 'miranda'},\n",
    "    {'nome': 'Maria', 'sobrenome': 'Oliveira'},\n",
    "    {'nome': 'Daniel', 'sobrenome': 'Silva'},\n",
    "    {'nome': 'Eduardo', 'sobrenome': 'Moreira'},\n",
    "    {'nome': 'Aline', 'sobrenome': 'Souza'},\n",
    "]"
   ]
  },
  {
   "cell_type": "code",
   "execution_count": null,
   "id": "65578629",
   "metadata": {},
   "outputs": [],
   "source": []
  }
 ],
 "metadata": {
  "kernelspec": {
   "display_name": "Python 3 (ipykernel)",
   "language": "python",
   "name": "python3"
  },
  "language_info": {
   "codemirror_mode": {
    "name": "ipython",
    "version": 3
   },
   "file_extension": ".py",
   "mimetype": "text/x-python",
   "name": "python",
   "nbconvert_exporter": "python",
   "pygments_lexer": "ipython3",
   "version": "3.11.4"
  }
 },
 "nbformat": 4,
 "nbformat_minor": 5
}
